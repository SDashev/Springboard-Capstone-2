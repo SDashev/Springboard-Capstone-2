{
  "nbformat": 4,
  "nbformat_minor": 0,
  "metadata": {
    "colab": {
      "name": "Capstone 2 ml model transfer.ipynb",
      "provenance": [],
      "collapsed_sections": [],
      "machine_shape": "hm",
      "authorship_tag": "ABX9TyOFSeXvBEhH4LS4pkCh47XL",
      "include_colab_link": true
    },
    "kernelspec": {
      "name": "python3",
      "display_name": "Python 3"
    },
    "accelerator": "GPU"
  },
  "cells": [
    {
      "cell_type": "markdown",
      "metadata": {
        "id": "view-in-github",
        "colab_type": "text"
      },
      "source": [
        "<a href=\"https://colab.research.google.com/github/SDashev/Springboard-Capstone-2/blob/master/Capstone_2_ml_model_transfer.ipynb\" target=\"_parent\"><img src=\"https://colab.research.google.com/assets/colab-badge.svg\" alt=\"Open In Colab\"/></a>"
      ]
    },
    {
      "cell_type": "code",
      "metadata": {
        "id": "oyXrBHmqAc_c",
        "colab_type": "code",
        "colab": {}
      },
      "source": [
        ""
      ],
      "execution_count": 0,
      "outputs": []
    },
    {
      "cell_type": "markdown",
      "metadata": {
        "id": "4oPDarANBUm_",
        "colab_type": "text"
      },
      "source": [
        "# This notebook uses Google colab to run"
      ]
    },
    {
      "cell_type": "markdown",
      "metadata": {
        "id": "L4r7twyiGV8K",
        "colab_type": "text"
      },
      "source": [
        "We will run model with transfer learning using exactly the same data used to train model from scratch. We will not shuffle or make any alterations to data we did not do using the model from scratch. \n",
        "\n",
        "This way, we will be able to truly compare the two types of models."
      ]
    },
    {
      "cell_type": "code",
      "metadata": {
        "id": "7uUse5b0BZ8D",
        "colab_type": "code",
        "outputId": "45c6ca78-3b0d-4c0f-f9ff-4d4b733820f8",
        "colab": {
          "base_uri": "https://localhost:8080/",
          "height": 296
        }
      },
      "source": [
        "!pip install PyDrive"
      ],
      "execution_count": 0,
      "outputs": [
        {
          "output_type": "stream",
          "text": [
            "Requirement already satisfied: PyDrive in /usr/local/lib/python3.6/dist-packages (1.3.1)\n",
            "Requirement already satisfied: PyYAML>=3.0 in /usr/local/lib/python3.6/dist-packages (from PyDrive) (3.13)\n",
            "Requirement already satisfied: google-api-python-client>=1.2 in /usr/local/lib/python3.6/dist-packages (from PyDrive) (1.7.12)\n",
            "Requirement already satisfied: oauth2client>=4.0.0 in /usr/local/lib/python3.6/dist-packages (from PyDrive) (4.1.3)\n",
            "Requirement already satisfied: uritemplate<4dev,>=3.0.0 in /usr/local/lib/python3.6/dist-packages (from google-api-python-client>=1.2->PyDrive) (3.0.1)\n",
            "Requirement already satisfied: google-auth>=1.4.1 in /usr/local/lib/python3.6/dist-packages (from google-api-python-client>=1.2->PyDrive) (1.7.2)\n",
            "Requirement already satisfied: httplib2<1dev,>=0.17.0 in /usr/local/lib/python3.6/dist-packages (from google-api-python-client>=1.2->PyDrive) (0.17.0)\n",
            "Requirement already satisfied: six<2dev,>=1.6.1 in /usr/local/lib/python3.6/dist-packages (from google-api-python-client>=1.2->PyDrive) (1.12.0)\n",
            "Requirement already satisfied: google-auth-httplib2>=0.0.3 in /usr/local/lib/python3.6/dist-packages (from google-api-python-client>=1.2->PyDrive) (0.0.3)\n",
            "Requirement already satisfied: pyasn1-modules>=0.0.5 in /usr/local/lib/python3.6/dist-packages (from oauth2client>=4.0.0->PyDrive) (0.2.8)\n",
            "Requirement already satisfied: rsa>=3.1.4 in /usr/local/lib/python3.6/dist-packages (from oauth2client>=4.0.0->PyDrive) (4.0)\n",
            "Requirement already satisfied: pyasn1>=0.1.7 in /usr/local/lib/python3.6/dist-packages (from oauth2client>=4.0.0->PyDrive) (0.4.8)\n",
            "Requirement already satisfied: setuptools>=40.3.0 in /usr/local/lib/python3.6/dist-packages (from google-auth>=1.4.1->google-api-python-client>=1.2->PyDrive) (46.0.0)\n",
            "Requirement already satisfied: cachetools<3.2,>=2.0.0 in /usr/local/lib/python3.6/dist-packages (from google-auth>=1.4.1->google-api-python-client>=1.2->PyDrive) (3.1.1)\n"
          ],
          "name": "stdout"
        }
      ]
    },
    {
      "cell_type": "code",
      "metadata": {
        "id": "nLQOquhSBeYn",
        "colab_type": "code",
        "outputId": "6ace01ae-6762-44e2-8c90-251a1dff85d7",
        "colab": {
          "base_uri": "https://localhost:8080/",
          "height": 335
        }
      },
      "source": [
        "gpu_info = !nvidia-smi\n",
        "gpu_info = '\\n'.join(gpu_info)\n",
        "if gpu_info.find('failed') >= 0:\n",
        "  print('Select the Runtime → \"Change runtime type\" menu to enable a GPU accelerator, ')\n",
        "  print('and then re-execute this cell.')\n",
        "else:\n",
        "  print(gpu_info)"
      ],
      "execution_count": 0,
      "outputs": [
        {
          "output_type": "stream",
          "text": [
            "Mon Mar 30 21:07:24 2020       \n",
            "+-----------------------------------------------------------------------------+\n",
            "| NVIDIA-SMI 440.64.00    Driver Version: 418.67       CUDA Version: 10.1     |\n",
            "|-------------------------------+----------------------+----------------------+\n",
            "| GPU  Name        Persistence-M| Bus-Id        Disp.A | Volatile Uncorr. ECC |\n",
            "| Fan  Temp  Perf  Pwr:Usage/Cap|         Memory-Usage | GPU-Util  Compute M. |\n",
            "|===============================+======================+======================|\n",
            "|   0  Tesla P100-PCIE...  Off  | 00000000:00:04.0 Off |                    0 |\n",
            "| N/A   47C    P0    27W / 250W |      0MiB / 16280MiB |      0%      Default |\n",
            "+-------------------------------+----------------------+----------------------+\n",
            "                                                                               \n",
            "+-----------------------------------------------------------------------------+\n",
            "| Processes:                                                       GPU Memory |\n",
            "|  GPU       PID   Type   Process name                             Usage      |\n",
            "|=============================================================================|\n",
            "|  No running processes found                                                 |\n",
            "+-----------------------------------------------------------------------------+\n"
          ],
          "name": "stdout"
        }
      ]
    },
    {
      "cell_type": "code",
      "metadata": {
        "id": "5BOj_wDcBqaI",
        "colab_type": "code",
        "colab": {}
      },
      "source": [
        "import os\n",
        "from pydrive.auth import GoogleAuth\n",
        "from pydrive.drive import GoogleDrive\n",
        "from google.colab import auth\n",
        "from oauth2client.client import GoogleCredentials"
      ],
      "execution_count": 0,
      "outputs": []
    },
    {
      "cell_type": "code",
      "metadata": {
        "id": "VvR1BbvGBw2T",
        "colab_type": "code",
        "colab": {}
      },
      "source": [
        "auth.authenticate_user()\n",
        "gauth = GoogleAuth()\n",
        "gauth.credentials = GoogleCredentials.get_application_default()\n",
        "drive = GoogleDrive(gauth)"
      ],
      "execution_count": 0,
      "outputs": []
    },
    {
      "cell_type": "markdown",
      "metadata": {
        "id": "3jMWKaHHB5dt",
        "colab_type": "text"
      },
      "source": [
        "### Fetching data"
      ]
    },
    {
      "cell_type": "code",
      "metadata": {
        "id": "ighkR3YU3X0f",
        "colab_type": "code",
        "colab": {}
      },
      "source": [
        "# in the colab files, I created work directory and moved the working directory.\n",
        "os.chdir( 'work')"
      ],
      "execution_count": 0,
      "outputs": []
    },
    {
      "cell_type": "code",
      "metadata": {
        "id": "LZrnCBSQB8up",
        "colab_type": "code",
        "colab": {}
      },
      "source": [
        "download = drive.CreateFile({'id': '1-0DzB-dUXarKs6GtULkZceszlyx9BcfT'})\n",
        "download.GetContentFile('fruit-recognition.zip')"
      ],
      "execution_count": 0,
      "outputs": []
    },
    {
      "cell_type": "code",
      "metadata": {
        "id": "40nQm6rsCAg0",
        "colab_type": "code",
        "colab": {}
      },
      "source": [
        "download = drive.CreateFile({'id': '1jQ7nVkoI8xGFKJNTmhBHwU6iS4_EPmd5'})\n",
        "download.GetContentFile('files_for_ml_cs2.zip')"
      ],
      "execution_count": 0,
      "outputs": []
    },
    {
      "cell_type": "code",
      "metadata": {
        "id": "ShPuZ9tuCECJ",
        "colab_type": "code",
        "outputId": "a7f0684a-8a3a-43c8-9e4d-0578dd474c34",
        "colab": {
          "base_uri": "https://localhost:8080/",
          "height": 73
        }
      },
      "source": [
        "!unzip -q fruit-recognition.zip  \n",
        "!ls"
      ],
      "execution_count": 0,
      "outputs": [
        {
          "output_type": "stream",
          "text": [
            "Apple\t   files_for_ml_cs2.zip   Kiwi\t     Orange  Persimmon\tPomegranate\n",
            "Banana\t   fruit-recognition.zip  Mango      Peach   Pitaya\tTomatoes\n",
            "Carambola  Guava\t\t  muskmelon  Pear    Plum\n"
          ],
          "name": "stdout"
        }
      ]
    },
    {
      "cell_type": "code",
      "metadata": {
        "id": "_t449X4vCI0T",
        "colab_type": "code",
        "outputId": "ebad438c-77f4-4b52-f9e8-291980454799",
        "colab": {
          "base_uri": "https://localhost:8080/",
          "height": 185
        }
      },
      "source": [
        "!unzip -q files_for_ml_cs2.zip  \n",
        "!ls"
      ],
      "execution_count": 0,
      "outputs": [
        {
          "output_type": "stream",
          "text": [
            "Apple\t\t\tlabel_classes.csv  Pomegranate\n",
            "Banana\t\t\tMango\t\t   Tomatoes\n",
            "Carambola\t\tmuskmelon\t   X_train_filenames.npy\n",
            "file_names_data.npy\tOrange\t\t   X_val_filenames.npy\n",
            "filenames_shuffled.npy\tPeach\t\t   y_label_one_hot.npy\n",
            "files_for_ml_cs2.zip\tPear\t\t   y_labels_one_hot_shuffled.npy\n",
            "fruit-recognition.zip\tPersimmon\t   y_train.npy\n",
            "Guava\t\t\tPitaya\t\t   y_val.npy\n",
            "Kiwi\t\t\tPlum\n"
          ],
          "name": "stdout"
        }
      ]
    },
    {
      "cell_type": "code",
      "metadata": {
        "id": "bvov-jyZCPXV",
        "colab_type": "code",
        "outputId": "bd730e67-65f8-4fa9-ee7f-c9c0b8ae0529",
        "colab": {
          "base_uri": "https://localhost:8080/",
          "height": 36
        }
      },
      "source": [
        "!rm fruit-recognition.zip\n",
        "!rm files_for_ml_cs2.zip\n",
        "%reset_selective download"
      ],
      "execution_count": 0,
      "outputs": [
        {
          "output_type": "stream",
          "text": [
            "Once deleted, variables cannot be recovered. Proceed (y/[n])?  y\n"
          ],
          "name": "stdout"
        }
      ]
    },
    {
      "cell_type": "code",
      "metadata": {
        "id": "rXnGPzH8CUF_",
        "colab_type": "code",
        "colab": {}
      },
      "source": [
        ""
      ],
      "execution_count": 0,
      "outputs": []
    },
    {
      "cell_type": "code",
      "metadata": {
        "id": "YLNW9IHOCUPF",
        "colab_type": "code",
        "colab": {}
      },
      "source": [
        ""
      ],
      "execution_count": 0,
      "outputs": []
    },
    {
      "cell_type": "markdown",
      "metadata": {
        "id": "CF-5XsbfCSzJ",
        "colab_type": "text"
      },
      "source": [
        "## Build model"
      ]
    },
    {
      "cell_type": "code",
      "metadata": {
        "id": "NPl-1hWP-q-d",
        "colab_type": "code",
        "colab": {}
      },
      "source": [
        "import numpy as np\n",
        "import pandas as pd\n",
        "\n",
        "import tensorflow.keras\n",
        "\n",
        "from tensorflow.keras import applications\n",
        "\n",
        "from tensorflow.keras.models import Sequential, Model, load_model\n",
        "from tensorflow.keras.layers import Input, Conv1D, Conv2D, MaxPooling1D, MaxPooling2D, Dense, Dropout, Activation, Flatten\n",
        "from keras.layers.normalization import BatchNormalization\n",
        "from keras.utils import to_categorical\n",
        "\n",
        "from cv2 import imread\n",
        "import matplotlib.pyplot as plt\n",
        "\n"
      ],
      "execution_count": 0,
      "outputs": []
    },
    {
      "cell_type": "code",
      "metadata": {
        "id": "29SZKItKEMzi",
        "colab_type": "code",
        "outputId": "fc44f8de-f5ab-4120-e508-ebea97767ed9",
        "colab": {
          "base_uri": "https://localhost:8080/",
          "height": 411
        }
      },
      "source": [
        "#Build CNN with transfer learning from VGG16 trained on imagenet\n",
        "#from tensorflow.keras import models,layers\n",
        "from tensorflow.keras.applications import VGG16\n",
        "\n",
        "cbase=applications.VGG16(weights='imagenet', include_top=False, input_shape=(258, 320, 3)) \n",
        "cbase.trainable=False # freeze convolutional base\n",
        "\n",
        "transfer_m = Sequential()\n",
        "transfer_m.add(cbase)\n",
        "\n",
        "transfer_m.add(Flatten())\n",
        "\n",
        "transfer_m.add(Dense(128, activation='relu', use_bias=\n",
        "                     True, bias_initializer='zeros' ))\n",
        "transfer_m.add(Dropout(0.25))\n",
        "\n",
        "transfer_m.add(Dense(15, activation='softmax'))\n",
        "\n",
        "transfer_m.summary()"
      ],
      "execution_count": 0,
      "outputs": [
        {
          "output_type": "stream",
          "text": [
            "Downloading data from https://storage.googleapis.com/tensorflow/keras-applications/vgg16/vgg16_weights_tf_dim_ordering_tf_kernels_notop.h5\n",
            "58892288/58889256 [==============================] - 0s 0us/step\n",
            "Model: \"sequential\"\n",
            "_________________________________________________________________\n",
            "Layer (type)                 Output Shape              Param #   \n",
            "=================================================================\n",
            "vgg16 (Model)                (None, 8, 10, 512)        14714688  \n",
            "_________________________________________________________________\n",
            "flatten (Flatten)            (None, 40960)             0         \n",
            "_________________________________________________________________\n",
            "dense (Dense)                (None, 128)               5243008   \n",
            "_________________________________________________________________\n",
            "dropout (Dropout)            (None, 128)               0         \n",
            "_________________________________________________________________\n",
            "dense_1 (Dense)              (None, 15)                1935      \n",
            "=================================================================\n",
            "Total params: 19,959,631\n",
            "Trainable params: 5,244,943\n",
            "Non-trainable params: 14,714,688\n",
            "_________________________________________________________________\n"
          ],
          "name": "stdout"
        }
      ]
    },
    {
      "cell_type": "code",
      "metadata": {
        "id": "ZB00rW4pENGO",
        "colab_type": "code",
        "colab": {}
      },
      "source": [
        ""
      ],
      "execution_count": 0,
      "outputs": []
    },
    {
      "cell_type": "code",
      "metadata": {
        "id": "SVoU8KOTENgM",
        "colab_type": "code",
        "colab": {}
      },
      "source": [
        ""
      ],
      "execution_count": 0,
      "outputs": []
    },
    {
      "cell_type": "markdown",
      "metadata": {
        "id": "MIQ6grhqEODZ",
        "colab_type": "text"
      },
      "source": [
        "## Custom data generator"
      ]
    },
    {
      "cell_type": "code",
      "metadata": {
        "id": "Qle3iOzZEVMm",
        "colab_type": "code",
        "colab": {}
      },
      "source": [
        "class My_Custom_Generator(tensorflow.keras.utils.Sequence):\n",
        "\n",
        "  from cv2 import imread\n",
        "\n",
        "  def __init__(self, image_filenames, labels, batch_size):\n",
        "    self.image_filenames = image_filenames\n",
        "\n",
        "    self.labels = labels\n",
        "\n",
        "    self.batch_size = batch_size\n",
        "\n",
        "    \n",
        "  def __len__(self) :\n",
        "\n",
        "    return (np.ceil(len(self.image_filenames) / float(\n",
        "        self.batch_size))).astype(np.int)\n",
        "\n",
        "  \n",
        "\n",
        "  def __getitem__(self, idx) :\n",
        "\n",
        "    batch_x = self.image_filenames[idx * self.batch_size : (\n",
        "        idx+1) * self.batch_size]\n",
        "    batch_y = self.labels[idx * self.batch_size : (idx+1) * self.batch_size]\n",
        "    \n",
        "    return np.array([\n",
        "            (imread(str(file_name))) for file_name in batch_x])/255.0, np.array(\n",
        "                batch_y)"
      ],
      "execution_count": 0,
      "outputs": []
    },
    {
      "cell_type": "code",
      "metadata": {
        "id": "0KIOPUvmEgtv",
        "colab_type": "code",
        "colab": {}
      },
      "source": [
        "# loading variables\n",
        "#from keras.utils import to_categorical\n",
        "\n",
        "# loading variables\n",
        "X_train = np.load('X_train_filenames.npy')\n",
        "y_train = (np.load('y_train.npy'))\n",
        "\n",
        "X_df = list(X_train)\n",
        "y_df = list(y_train)\n",
        "\n",
        "X_train_files = np.array(X_df[:44263])\n",
        "y_train_values = np.array(y_df[:44263])\n",
        "X_val_files = np.array(X_df[44263:])\n",
        "y_val_values = np.array(y_df[44263:])\n",
        "\n",
        "X_test_files = np.load('X_val_filenames.npy')\n",
        "y_test = (np.load('y_val.npy'))\n",
        "name_classes = pd.read_csv('label_classes.csv')"
      ],
      "execution_count": 0,
      "outputs": []
    },
    {
      "cell_type": "code",
      "metadata": {
        "id": "Z22N_4bCEt30",
        "colab_type": "code",
        "colab": {}
      },
      "source": [
        "batch_size = 95\n",
        "\n",
        "my_training_batch_generator = My_Custom_Generator(\n",
        "    X_train_files, y_train_values, batch_size)\n",
        "my_validation_batch_generator = My_Custom_Generator(\n",
        "    X_val_files, y_val_values, batch_size)"
      ],
      "execution_count": 0,
      "outputs": []
    },
    {
      "cell_type": "code",
      "metadata": {
        "id": "Bw294SVdE2wt",
        "colab_type": "code",
        "colab": {}
      },
      "source": [
        ""
      ],
      "execution_count": 0,
      "outputs": []
    },
    {
      "cell_type": "code",
      "metadata": {
        "id": "zShEN7KmE28L",
        "colab_type": "code",
        "colab": {}
      },
      "source": [
        ""
      ],
      "execution_count": 0,
      "outputs": []
    },
    {
      "cell_type": "markdown",
      "metadata": {
        "id": "gKgQczovE3eh",
        "colab_type": "text"
      },
      "source": [
        "## Running model"
      ]
    },
    {
      "cell_type": "code",
      "metadata": {
        "id": "jVU_7W5mE6yg",
        "colab_type": "code",
        "colab": {}
      },
      "source": [
        "transfer_m.compile(loss='categorical_crossentropy',optimizer=\n",
        "                   'adam',metrics=['accuracy'])\n",
        "\n",
        "load_weights = False #load weights if not re-fitting\n",
        "if load_weights:\n",
        "    transfer_m.load_weights('../model/vgg_baseline.hdf5')"
      ],
      "execution_count": 0,
      "outputs": []
    },
    {
      "cell_type": "code",
      "metadata": {
        "id": "IBiYmL7fF_ob",
        "colab_type": "code",
        "outputId": "7c3414c7-8158-4f62-e9d9-c331a806f03b",
        "colab": {
          "base_uri": "https://localhost:8080/",
          "height": 261
        }
      },
      "source": [
        "#from tensorflow.python.keras.utils.data_utils import Sequence\n",
        "from keras.utils import Sequence\n",
        "from tensorflow.keras.callbacks import EarlyStopping\n",
        "early_stop_mon=EarlyStopping(patience=2)\n",
        "if load_weights!=True:\n",
        "  record = transfer_m.fit(x=my_training_batch_generator,\n",
        "                 steps_per_epoch = int(44263 // batch_size),\n",
        "                   epochs = 30,\n",
        "                   #verbose = 1,\n",
        "                   validation_data = my_validation_batch_generator,\n",
        "                   validation_steps = int(4917 // batch_size),\n",
        "                   shuffle=False,\n",
        "                   callbacks=[early_stop_mon])"
      ],
      "execution_count": 0,
      "outputs": [
        {
          "output_type": "stream",
          "text": [
            "Epoch 1/30\n",
            "465/465 [==============================] - 232s 499ms/step - loss: 0.7997 - accuracy: 0.7600 - val_loss: 0.1463 - val_accuracy: 0.9680\n",
            "Epoch 2/30\n",
            "465/465 [==============================] - 211s 454ms/step - loss: 0.3107 - accuracy: 0.8883 - val_loss: 0.0695 - val_accuracy: 0.9835\n",
            "Epoch 3/30\n",
            "465/465 [==============================] - 207s 445ms/step - loss: 0.2394 - accuracy: 0.9103 - val_loss: 0.0615 - val_accuracy: 0.9810\n",
            "Epoch 4/30\n",
            "465/465 [==============================] - 206s 443ms/step - loss: 0.2184 - accuracy: 0.9160 - val_loss: 0.0445 - val_accuracy: 0.9886\n",
            "Epoch 5/30\n",
            "465/465 [==============================] - 206s 443ms/step - loss: 0.1929 - accuracy: 0.9260 - val_loss: 0.0470 - val_accuracy: 0.9878\n",
            "Epoch 6/30\n",
            "465/465 [==============================] - 204s 439ms/step - loss: 0.1836 - accuracy: 0.9291 - val_loss: 0.0477 - val_accuracy: 0.9841\n"
          ],
          "name": "stdout"
        }
      ]
    },
    {
      "cell_type": "code",
      "metadata": {
        "id": "CdLd4qvW1pWl",
        "colab_type": "code",
        "colab": {}
      },
      "source": [
        ""
      ],
      "execution_count": 0,
      "outputs": []
    },
    {
      "cell_type": "code",
      "metadata": {
        "id": "u-mVCRwJ13Sp",
        "colab_type": "code",
        "colab": {}
      },
      "source": [
        ""
      ],
      "execution_count": 0,
      "outputs": []
    },
    {
      "cell_type": "code",
      "metadata": {
        "id": "5aO7cbjc13cR",
        "colab_type": "code",
        "outputId": "c77b3cd1-961e-435e-cc7e-027136f7f26b",
        "colab": {
          "base_uri": "https://localhost:8080/",
          "height": 131
        }
      },
      "source": [
        "from google.colab import drive\n",
        "drive.mount('/content/gdrive')\n",
        "path_model = '../gdrive/My Drive/Capstone 2/cs2-repo/Springboard-Capstone-2/models/'"
      ],
      "execution_count": 0,
      "outputs": [
        {
          "output_type": "stream",
          "text": [
            "Go to this URL in a browser: https://accounts.google.com/o/oauth2/auth?client_id=947318989803-6bn6qk8qdgf4n4g3pfee6491hc0brc4i.apps.googleusercontent.com&redirect_uri=urn%3aietf%3awg%3aoauth%3a2.0%3aoob&response_type=code&scope=email%20https%3a%2f%2fwww.googleapis.com%2fauth%2fdocs.test%20https%3a%2f%2fwww.googleapis.com%2fauth%2fdrive%20https%3a%2f%2fwww.googleapis.com%2fauth%2fdrive.photos.readonly%20https%3a%2f%2fwww.googleapis.com%2fauth%2fpeopleapi.readonly\n",
            "\n",
            "Enter your authorization code:\n",
            "··········\n",
            "Mounted at /content/gdrive\n"
          ],
          "name": "stdout"
        }
      ]
    },
    {
      "cell_type": "code",
      "metadata": {
        "id": "FnwwCnY-F_81",
        "colab_type": "code",
        "colab": {}
      },
      "source": [
        "save_weights = True\n",
        "if save_weights:\n",
        "    transfer_m.save('../gdrive/My Drive/Capstone 2/cs2-repo/Springboard-Capstone-2/models/baseline_transfer.hdf5')\n",
        "    #save history too\n",
        "    hist_df=pd.DataFrame.from_dict(record.history)\n",
        "    hist_df.to_csv('../gdrive/My Drive/Capstone 2/cs2-repo/Springboard-Capstone-2/models/history_transfer.csv')"
      ],
      "execution_count": 0,
      "outputs": []
    },
    {
      "cell_type": "code",
      "metadata": {
        "id": "ggJOe84FIYWZ",
        "colab_type": "code",
        "colab": {}
      },
      "source": [
        "#transfer_m.load_weights('../model/baseline_transfer.hdf5')"
      ],
      "execution_count": 0,
      "outputs": []
    },
    {
      "cell_type": "code",
      "metadata": {
        "id": "c8rEBAlOLaSf",
        "colab_type": "code",
        "colab": {}
      },
      "source": [
        "#hist=pd.read_csv('../model/history_transfer.csv')"
      ],
      "execution_count": 0,
      "outputs": []
    },
    {
      "cell_type": "code",
      "metadata": {
        "id": "ORcLaeg1Lank",
        "colab_type": "code",
        "colab": {}
      },
      "source": [
        ""
      ],
      "execution_count": 0,
      "outputs": []
    },
    {
      "cell_type": "code",
      "metadata": {
        "id": "v9LiBMRALaxR",
        "colab_type": "code",
        "colab": {}
      },
      "source": [
        ""
      ],
      "execution_count": 0,
      "outputs": []
    },
    {
      "cell_type": "markdown",
      "metadata": {
        "id": "RHjEQ1XnGAqy",
        "colab_type": "text"
      },
      "source": [
        "## Evaluate model"
      ]
    },
    {
      "cell_type": "code",
      "metadata": {
        "id": "IabnSyQ_2GxL",
        "colab_type": "code",
        "outputId": "88c8604c-2d73-4076-c585-4c3e927453a1",
        "colab": {
          "base_uri": "https://localhost:8080/",
          "height": 206
        }
      },
      "source": [
        "hist_df.head()"
      ],
      "execution_count": 0,
      "outputs": [
        {
          "output_type": "execute_result",
          "data": {
            "text/html": [
              "<div>\n",
              "<style scoped>\n",
              "    .dataframe tbody tr th:only-of-type {\n",
              "        vertical-align: middle;\n",
              "    }\n",
              "\n",
              "    .dataframe tbody tr th {\n",
              "        vertical-align: top;\n",
              "    }\n",
              "\n",
              "    .dataframe thead th {\n",
              "        text-align: right;\n",
              "    }\n",
              "</style>\n",
              "<table border=\"1\" class=\"dataframe\">\n",
              "  <thead>\n",
              "    <tr style=\"text-align: right;\">\n",
              "      <th></th>\n",
              "      <th>loss</th>\n",
              "      <th>accuracy</th>\n",
              "      <th>val_loss</th>\n",
              "      <th>val_accuracy</th>\n",
              "    </tr>\n",
              "  </thead>\n",
              "  <tbody>\n",
              "    <tr>\n",
              "      <th>0</th>\n",
              "      <td>0.799727</td>\n",
              "      <td>0.760000</td>\n",
              "      <td>0.146256</td>\n",
              "      <td>0.968008</td>\n",
              "    </tr>\n",
              "    <tr>\n",
              "      <th>1</th>\n",
              "      <td>0.310730</td>\n",
              "      <td>0.888331</td>\n",
              "      <td>0.069453</td>\n",
              "      <td>0.983488</td>\n",
              "    </tr>\n",
              "    <tr>\n",
              "      <th>2</th>\n",
              "      <td>0.239365</td>\n",
              "      <td>0.910334</td>\n",
              "      <td>0.061470</td>\n",
              "      <td>0.981011</td>\n",
              "    </tr>\n",
              "    <tr>\n",
              "      <th>3</th>\n",
              "      <td>0.218425</td>\n",
              "      <td>0.916016</td>\n",
              "      <td>0.044483</td>\n",
              "      <td>0.988648</td>\n",
              "    </tr>\n",
              "    <tr>\n",
              "      <th>4</th>\n",
              "      <td>0.192901</td>\n",
              "      <td>0.925976</td>\n",
              "      <td>0.046989</td>\n",
              "      <td>0.987822</td>\n",
              "    </tr>\n",
              "  </tbody>\n",
              "</table>\n",
              "</div>"
            ],
            "text/plain": [
              "       loss  accuracy  val_loss  val_accuracy\n",
              "0  0.799727  0.760000  0.146256      0.968008\n",
              "1  0.310730  0.888331  0.069453      0.983488\n",
              "2  0.239365  0.910334  0.061470      0.981011\n",
              "3  0.218425  0.916016  0.044483      0.988648\n",
              "4  0.192901  0.925976  0.046989      0.987822"
            ]
          },
          "metadata": {
            "tags": []
          },
          "execution_count": 53
        }
      ]
    },
    {
      "cell_type": "code",
      "metadata": {
        "id": "GPElaBJhGE4P",
        "colab_type": "code",
        "outputId": "2d6c5197-ea9e-4c78-d35e-4462ef3495d1",
        "colab": {
          "base_uri": "https://localhost:8080/",
          "height": 370
        }
      },
      "source": [
        "# Plot model fitting\n",
        "# adapted from Deep Learning With Python (Chollet)\n",
        "h = transfer_m.history\n",
        "epochs = hist_df.index\n",
        "fig,ax=plt.subplots(1,2,figsize=(13,5))\n",
        "ax[0].plot(epochs, hist_df['accuracy'], 'r', label='Training')\n",
        "ax[0].plot(epochs, hist_df['val_accuracy'], 'b', label='Validation')\n",
        "ax[0].set_title('Accuracy')\n",
        "ax[0].set_xlabel('Epochs')\n",
        "ax[0].legend()\n",
        "ax[1].plot(epochs, hist_df['loss'], 'r', label='Training')\n",
        "ax[1].plot(epochs, hist_df['val_loss'], 'b', label='Validation')\n",
        "ax[1].set_title('Loss')\n",
        "ax[1].set_xlabel('Epochs')\n",
        "ax[1].legend()\n",
        "plt.suptitle('Evaluation of Model Fit Over {} Epochs'.format(hist_df.shape[0]));"
      ],
      "execution_count": 0,
      "outputs": [
        {
          "output_type": "display_data",
          "data": {
            "image/png": "[encoded data removed]",
            "text/plain": [
              "<Figure size 936x360 with 2 Axes>"
            ]
          },
          "metadata": {
            "tags": []
          }
        }
      ]
    },
    {
      "cell_type": "code",
      "metadata": {
        "id": "AZOyRpYk07vv",
        "colab_type": "code",
        "colab": {}
      },
      "source": [
        ""
      ],
      "execution_count": 0,
      "outputs": []
    },
    {
      "cell_type": "code",
      "metadata": {
        "id": "wTo4g2OU4h3h",
        "colab_type": "code",
        "colab": {}
      },
      "source": [
        ""
      ],
      "execution_count": 0,
      "outputs": []
    },
    {
      "cell_type": "code",
      "metadata": {
        "id": "AutUbefe4iA_",
        "colab_type": "code",
        "colab": {}
      },
      "source": [
        ""
      ],
      "execution_count": 0,
      "outputs": []
    },
    {
      "cell_type": "code",
      "metadata": {
        "id": "7xC2mCx94iK2",
        "colab_type": "code",
        "colab": {}
      },
      "source": [
        ""
      ],
      "execution_count": 0,
      "outputs": []
    },
    {
      "cell_type": "markdown",
      "metadata": {
        "id": "iPOf_g7l4i6O",
        "colab_type": "text"
      },
      "source": [
        "## Build model with different base"
      ]
    },
    {
      "cell_type": "code",
      "metadata": {
        "id": "6O33QDXH4yLD",
        "colab_type": "code",
        "outputId": "c8af6fb3-f212-4d8a-b971-a408f53e9efe",
        "colab": {
          "base_uri": "https://localhost:8080/",
          "height": 411
        }
      },
      "source": [
        "#Build CNN with transfer learning from VGG16 trained on imagenet\n",
        "#from tensorflow.keras import models,layers\n",
        "from tensorflow.keras.applications import VGG16\n",
        "\n",
        "cbase=applications.VGG19(weights='imagenet', include_top=False, input_shape=(258, 320, 3)) \n",
        "cbase.trainable=False # freeze convolutional base\n",
        "\n",
        "transfer_m = Sequential()\n",
        "transfer_m.add(cbase)\n",
        "\n",
        "transfer_m.add(Flatten())\n",
        "\n",
        "transfer_m.add(Dense(128, activation='relu', use_bias=\n",
        "                     True, bias_initializer='zeros' ))\n",
        "transfer_m.add(Dropout(0.25))\n",
        "\n",
        "transfer_m.add(Dense(15, activation='softmax'))\n",
        "\n",
        "transfer_m.summary()"
      ],
      "execution_count": 0,
      "outputs": [
        {
          "output_type": "stream",
          "text": [
            "Downloading data from https://storage.googleapis.com/tensorflow/keras-applications/vgg19/vgg19_weights_tf_dim_ordering_tf_kernels_notop.h5\n",
            "80142336/80134624 [==============================] - 1s 0us/step\n",
            "Model: \"sequential_1\"\n",
            "_________________________________________________________________\n",
            "Layer (type)                 Output Shape              Param #   \n",
            "=================================================================\n",
            "vgg19 (Model)                (None, 8, 10, 512)        20024384  \n",
            "_________________________________________________________________\n",
            "flatten_1 (Flatten)          (None, 40960)             0         \n",
            "_________________________________________________________________\n",
            "dense_2 (Dense)              (None, 128)               5243008   \n",
            "_________________________________________________________________\n",
            "dropout_1 (Dropout)          (None, 128)               0         \n",
            "_________________________________________________________________\n",
            "dense_3 (Dense)              (None, 15)                1935      \n",
            "=================================================================\n",
            "Total params: 25,269,327\n",
            "Trainable params: 5,244,943\n",
            "Non-trainable params: 20,024,384\n",
            "_________________________________________________________________\n"
          ],
          "name": "stdout"
        }
      ]
    },
    {
      "cell_type": "code",
      "metadata": {
        "id": "DBT7NPbk5DVF",
        "colab_type": "code",
        "outputId": "08f78b78-d32a-4b07-f52a-cbb00e5a18b5",
        "colab": {
          "base_uri": "https://localhost:8080/",
          "height": 131
        }
      },
      "source": [
        "transfer_m.compile(loss='categorical_crossentropy',optimizer=\n",
        "                   'adam',metrics=['accuracy'])\n",
        "\n",
        "transfer_m.fit(x=my_training_batch_generator,\n",
        "                 steps_per_epoch = int(44263 // batch_size),\n",
        "                   epochs = 2,\n",
        "                   #verbose = 1,\n",
        "                   validation_data = my_validation_batch_generator,\n",
        "                   validation_steps = int(4917 // batch_size),\n",
        "                   shuffle=False,\n",
        "                   callbacks=[early_stop_mon])"
      ],
      "execution_count": 0,
      "outputs": [
        {
          "output_type": "stream",
          "text": [
            "Epoch 1/2\n",
            "465/465 [==============================] - 224s 481ms/step - loss: 0.9999 - accuracy: 0.7040 - val_loss: 0.2436 - val_accuracy: 0.9422\n",
            "Epoch 2/2\n",
            "465/465 [==============================] - 223s 479ms/step - loss: 0.4070 - accuracy: 0.8584 - val_loss: 0.1215 - val_accuracy: 0.9664\n"
          ],
          "name": "stdout"
        },
        {
          "output_type": "execute_result",
          "data": {
            "text/plain": [
              "<tensorflow.python.keras.callbacks.History at 0x7f5113ec95c0>"
            ]
          },
          "metadata": {
            "tags": []
          },
          "execution_count": 57
        }
      ]
    }
  ]
}
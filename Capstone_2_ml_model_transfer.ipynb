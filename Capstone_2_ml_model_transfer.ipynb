{
  "nbformat": 4,
  "nbformat_minor": 0,
  "metadata": {
    "colab": {
      "name": "Capstone 2 ml model transfer.ipynb",
      "provenance": [],
      "collapsed_sections": [],
      "machine_shape": "hm",
      "authorship_tag": "ABX9TyMss8LK5D3mMb5Tx+AMl/r5",
      "include_colab_link": true
    },
    "kernelspec": {
      "name": "python3",
      "display_name": "Python 3"
    },
    "accelerator": "GPU"
  },
  "cells": [
    {
      "cell_type": "markdown",
      "metadata": {
        "id": "view-in-github",
        "colab_type": "text"
      },
      "source": [
        "<a href=\"https://colab.research.google.com/github/SDashev/Springboard-Capstone-2/blob/work/Capstone_2_ml_model_transfer.ipynb\" target=\"_parent\"><img src=\"https://colab.research.google.com/assets/colab-badge.svg\" alt=\"Open In Colab\"/></a>"
      ]
    },
    {
      "cell_type": "code",
      "metadata": {
        "id": "oyXrBHmqAc_c",
        "colab_type": "code",
        "colab": {}
      },
      "source": [
        ""
      ],
      "execution_count": 0,
      "outputs": []
    },
    {
      "cell_type": "markdown",
      "metadata": {
        "id": "4oPDarANBUm_",
        "colab_type": "text"
      },
      "source": [
        "# This notebook uses Google colab to run"
      ]
    },
    {
      "cell_type": "markdown",
      "metadata": {
        "id": "L4r7twyiGV8K",
        "colab_type": "text"
      },
      "source": [
        "We will run model with transfer learning using exactly the same data used to train model from scratch. We will not shuffle or make any alterations to data we did not do using the model from scratch. \n",
        "\n",
        "This way, we will be able to truly compare the two types of models."
      ]
    },
    {
      "cell_type": "code",
      "metadata": {
        "id": "7uUse5b0BZ8D",
        "colab_type": "code",
        "outputId": "45c6ca78-3b0d-4c0f-f9ff-4d4b733820f8",
        "colab": {
          "base_uri": "https://localhost:8080/",
          "height": 296
        }
      },
      "source": [
        "!pip install PyDrive"
      ],
      "execution_count": 0,
      "outputs": [
        {
          "output_type": "stream",
          "text": [
            "Requirement already satisfied: PyDrive in /usr/local/lib/python3.6/dist-packages (1.3.1)\n",
            "Requirement already satisfied: PyYAML>=3.0 in /usr/local/lib/python3.6/dist-packages (from PyDrive) (3.13)\n",
            "Requirement already satisfied: google-api-python-client>=1.2 in /usr/local/lib/python3.6/dist-packages (from PyDrive) (1.7.12)\n",
            "Requirement already satisfied: oauth2client>=4.0.0 in /usr/local/lib/python3.6/dist-packages (from PyDrive) (4.1.3)\n",
            "Requirement already satisfied: uritemplate<4dev,>=3.0.0 in /usr/local/lib/python3.6/dist-packages (from google-api-python-client>=1.2->PyDrive) (3.0.1)\n",
            "Requirement already satisfied: google-auth>=1.4.1 in /usr/local/lib/python3.6/dist-packages (from google-api-python-client>=1.2->PyDrive) (1.7.2)\n",
            "Requirement already satisfied: httplib2<1dev,>=0.17.0 in /usr/local/lib/python3.6/dist-packages (from google-api-python-client>=1.2->PyDrive) (0.17.0)\n",
            "Requirement already satisfied: six<2dev,>=1.6.1 in /usr/local/lib/python3.6/dist-packages (from google-api-python-client>=1.2->PyDrive) (1.12.0)\n",
            "Requirement already satisfied: google-auth-httplib2>=0.0.3 in /usr/local/lib/python3.6/dist-packages (from google-api-python-client>=1.2->PyDrive) (0.0.3)\n",
            "Requirement already satisfied: pyasn1-modules>=0.0.5 in /usr/local/lib/python3.6/dist-packages (from oauth2client>=4.0.0->PyDrive) (0.2.8)\n",
            "Requirement already satisfied: rsa>=3.1.4 in /usr/local/lib/python3.6/dist-packages (from oauth2client>=4.0.0->PyDrive) (4.0)\n",
            "Requirement already satisfied: pyasn1>=0.1.7 in /usr/local/lib/python3.6/dist-packages (from oauth2client>=4.0.0->PyDrive) (0.4.8)\n",
            "Requirement already satisfied: setuptools>=40.3.0 in /usr/local/lib/python3.6/dist-packages (from google-auth>=1.4.1->google-api-python-client>=1.2->PyDrive) (46.0.0)\n",
            "Requirement already satisfied: cachetools<3.2,>=2.0.0 in /usr/local/lib/python3.6/dist-packages (from google-auth>=1.4.1->google-api-python-client>=1.2->PyDrive) (3.1.1)\n"
          ],
          "name": "stdout"
        }
      ]
    },
    {
      "cell_type": "code",
      "metadata": {
        "id": "nLQOquhSBeYn",
        "colab_type": "code",
        "outputId": "075ae45b-fdec-44a7-b5c4-6af7a4e6c026",
        "colab": {
          "base_uri": "https://localhost:8080/",
          "height": 326
        }
      },
      "source": [
        "gpu_info = !nvidia-smi\n",
        "gpu_info = '\\n'.join(gpu_info)\n",
        "if gpu_info.find('failed') >= 0:\n",
        "  print('Select the Runtime → \"Change runtime type\" menu to enable a GPU accelerator, ')\n",
        "  print('and then re-execute this cell.')\n",
        "else:\n",
        "  print(gpu_info)"
      ],
      "execution_count": 1,
      "outputs": [
        {
          "output_type": "stream",
          "text": [
            "Mon Mar 23 19:24:39 2020       \n",
            "+-----------------------------------------------------------------------------+\n",
            "| NVIDIA-SMI 440.64.00    Driver Version: 418.67       CUDA Version: 10.1     |\n",
            "|-------------------------------+----------------------+----------------------+\n",
            "| GPU  Name        Persistence-M| Bus-Id        Disp.A | Volatile Uncorr. ECC |\n",
            "| Fan  Temp  Perf  Pwr:Usage/Cap|         Memory-Usage | GPU-Util  Compute M. |\n",
            "|===============================+======================+======================|\n",
            "|   0  Tesla P100-PCIE...  Off  | 00000000:00:04.0 Off |                    0 |\n",
            "| N/A   41C    P0    26W / 250W |      0MiB / 16280MiB |      0%      Default |\n",
            "+-------------------------------+----------------------+----------------------+\n",
            "                                                                               \n",
            "+-----------------------------------------------------------------------------+\n",
            "| Processes:                                                       GPU Memory |\n",
            "|  GPU       PID   Type   Process name                             Usage      |\n",
            "|=============================================================================|\n",
            "|  No running processes found                                                 |\n",
            "+-----------------------------------------------------------------------------+\n"
          ],
          "name": "stdout"
        }
      ]
    },
    {
      "cell_type": "code",
      "metadata": {
        "id": "5BOj_wDcBqaI",
        "colab_type": "code",
        "colab": {}
      },
      "source": [
        "import os\n",
        "from pydrive.auth import GoogleAuth\n",
        "from pydrive.drive import GoogleDrive\n",
        "from google.colab import auth\n",
        "from oauth2client.client import GoogleCredentials"
      ],
      "execution_count": 0,
      "outputs": []
    },
    {
      "cell_type": "code",
      "metadata": {
        "id": "VvR1BbvGBw2T",
        "colab_type": "code",
        "colab": {}
      },
      "source": [
        "auth.authenticate_user()\n",
        "gauth = GoogleAuth()\n",
        "gauth.credentials = GoogleCredentials.get_application_default()\n",
        "drive = GoogleDrive(gauth)"
      ],
      "execution_count": 0,
      "outputs": []
    },
    {
      "cell_type": "markdown",
      "metadata": {
        "id": "3jMWKaHHB5dt",
        "colab_type": "text"
      },
      "source": [
        "### Fetching data"
      ]
    },
    {
      "cell_type": "code",
      "metadata": {
        "id": "ighkR3YU3X0f",
        "colab_type": "code",
        "colab": {}
      },
      "source": [
        "# in the colab files, I created work directory and moved the working directory.\n",
        "os.chdir( 'work')"
      ],
      "execution_count": 0,
      "outputs": []
    },
    {
      "cell_type": "code",
      "metadata": {
        "id": "LZrnCBSQB8up",
        "colab_type": "code",
        "colab": {}
      },
      "source": [
        "download = drive.CreateFile({'id': '1-0DzB-dUXarKs6GtULkZceszlyx9BcfT'})\n",
        "download.GetContentFile('fruit-recognition.zip')"
      ],
      "execution_count": 0,
      "outputs": []
    },
    {
      "cell_type": "code",
      "metadata": {
        "id": "40nQm6rsCAg0",
        "colab_type": "code",
        "colab": {}
      },
      "source": [
        "download = drive.CreateFile({'id': '1bE0dMhBKnbdA7fZCkE1CqUuL3cBVw-sL'})\n",
        "download.GetContentFile('files_for_ml_cs2.zip')"
      ],
      "execution_count": 0,
      "outputs": []
    },
    {
      "cell_type": "code",
      "metadata": {
        "id": "ShPuZ9tuCECJ",
        "colab_type": "code",
        "outputId": "fcd26d60-4ec3-4e9d-8f18-72dbbc6a34a6",
        "colab": {
          "base_uri": "https://localhost:8080/",
          "height": 72
        }
      },
      "source": [
        "!unzip -q fruit-recognition.zip  \n",
        "!ls"
      ],
      "execution_count": 7,
      "outputs": [
        {
          "output_type": "stream",
          "text": [
            "Apple\t   files_for_ml_cs2.zip   Kiwi\t     Orange  Persimmon\tPomegranate\n",
            "Banana\t   fruit-recognition.zip  Mango      Peach   Pitaya\tTomatoes\n",
            "Carambola  Guava\t\t  muskmelon  Pear    Plum\n"
          ],
          "name": "stdout"
        }
      ]
    },
    {
      "cell_type": "code",
      "metadata": {
        "id": "_t449X4vCI0T",
        "colab_type": "code",
        "outputId": "bb7fb3d9-dae1-48be-8a30-988b4e084db5",
        "colab": {
          "base_uri": "https://localhost:8080/",
          "height": 163
        }
      },
      "source": [
        "!unzip -q files_for_ml_cs2.zip  \n",
        "!ls"
      ],
      "execution_count": 8,
      "outputs": [
        {
          "output_type": "stream",
          "text": [
            "Apple\t\t\tlabel_classes.csv  Plum\n",
            "Banana\t\t\tMango\t\t   Pomegranate\n",
            "Carambola\t\tmuskmelon\t   Tomatoes\n",
            "filenames_shuffled.npy\tOrange\t\t   X_train_filenames.npy\n",
            "files_for_ml_cs2.zip\tPeach\t\t   X_val_filenames.npy\n",
            "fruit-recognition.zip\tPear\t\t   y_labels_one_hot_shuffled.npy\n",
            "Guava\t\t\tPersimmon\t   y_train.npy\n",
            "Kiwi\t\t\tPitaya\t\t   y_val.npy\n"
          ],
          "name": "stdout"
        }
      ]
    },
    {
      "cell_type": "code",
      "metadata": {
        "id": "bvov-jyZCPXV",
        "colab_type": "code",
        "outputId": "2a56893e-85b3-4cf5-9802-1127c2fd369d",
        "colab": {
          "base_uri": "https://localhost:8080/",
          "height": 35
        }
      },
      "source": [
        "!rm fruit-recognition.zip\n",
        "!rm files_for_ml_cs2.zip\n",
        "%reset_selective download"
      ],
      "execution_count": 9,
      "outputs": [
        {
          "output_type": "stream",
          "text": [
            "Once deleted, variables cannot be recovered. Proceed (y/[n])?  y\n"
          ],
          "name": "stdout"
        }
      ]
    },
    {
      "cell_type": "code",
      "metadata": {
        "id": "rXnGPzH8CUF_",
        "colab_type": "code",
        "colab": {}
      },
      "source": [
        ""
      ],
      "execution_count": 0,
      "outputs": []
    },
    {
      "cell_type": "code",
      "metadata": {
        "id": "YLNW9IHOCUPF",
        "colab_type": "code",
        "colab": {}
      },
      "source": [
        ""
      ],
      "execution_count": 0,
      "outputs": []
    },
    {
      "cell_type": "markdown",
      "metadata": {
        "id": "CF-5XsbfCSzJ",
        "colab_type": "text"
      },
      "source": [
        "## Build model"
      ]
    },
    {
      "cell_type": "code",
      "metadata": {
        "id": "NPl-1hWP-q-d",
        "colab_type": "code",
        "colab": {}
      },
      "source": [
        "import numpy as np\n",
        "import pandas as pd\n",
        "\n",
        "from skimage.io import imread\n",
        "from skimage.transform import resize\n",
        "\n",
        "import keras\n",
        "\n",
        "from keras import applications\n",
        "\n",
        "from keras.models import Sequential, Model, load_model\n",
        "from keras.layers import Input, Conv1D, Conv2D, MaxPooling1D, MaxPooling2D, Dense, Dropout, Activation, Flatten\n",
        "from keras.layers.normalization import BatchNormalization\n",
        "from keras.utils import to_categorical\n",
        "\n",
        "import matplotlib.pyplot as plt"
      ],
      "execution_count": 0,
      "outputs": []
    },
    {
      "cell_type": "code",
      "metadata": {
        "id": "29SZKItKEMzi",
        "colab_type": "code",
        "outputId": "d54551a1-fa2b-4a30-c3b1-c746f338b80d",
        "colab": {
          "base_uri": "https://localhost:8080/",
          "height": 345
        }
      },
      "source": [
        "#Build CNN with transfer learning from VGG16 trained on imagenet\n",
        "#from tensorflow.keras import models,layers\n",
        "#from tensorflow.keras.applications import VGG16\n",
        "\n",
        "cbase=applications.VGG16(weights='imagenet', include_top=False, input_shape=(258, 320, 3)) \n",
        "cbase.trainable=False # freeze convolutional base\n",
        "\n",
        "transfer_m = Sequential()\n",
        "transfer_m.add(cbase)\n",
        "transfer_m.add(Flatten())\n",
        "\n",
        "transfer_m.add(Dense(128, activation='relu', use_bias=\n",
        "                     True, bias_initializer='zeros' ))\n",
        "transfer_m.add(Dropout(0.25))\n",
        "\n",
        "transfer_m.add(Dense(15, activation='softmax'))\n",
        "\n",
        "transfer_m.summary()"
      ],
      "execution_count": 22,
      "outputs": [
        {
          "output_type": "stream",
          "text": [
            "Model: \"sequential_3\"\n",
            "_________________________________________________________________\n",
            "Layer (type)                 Output Shape              Param #   \n",
            "=================================================================\n",
            "vgg16 (Model)                (None, 8, 10, 512)        14714688  \n",
            "_________________________________________________________________\n",
            "flatten_2 (Flatten)          (None, 40960)             0         \n",
            "_________________________________________________________________\n",
            "dense_3 (Dense)              (None, 128)               5243008   \n",
            "_________________________________________________________________\n",
            "dropout_2 (Dropout)          (None, 128)               0         \n",
            "_________________________________________________________________\n",
            "dense_4 (Dense)              (None, 15)                1935      \n",
            "=================================================================\n",
            "Total params: 19,959,631\n",
            "Trainable params: 5,244,943\n",
            "Non-trainable params: 14,714,688\n",
            "_________________________________________________________________\n"
          ],
          "name": "stdout"
        }
      ]
    },
    {
      "cell_type": "code",
      "metadata": {
        "id": "ZB00rW4pENGO",
        "colab_type": "code",
        "colab": {}
      },
      "source": [
        ""
      ],
      "execution_count": 0,
      "outputs": []
    },
    {
      "cell_type": "code",
      "metadata": {
        "id": "SVoU8KOTENgM",
        "colab_type": "code",
        "colab": {}
      },
      "source": [
        ""
      ],
      "execution_count": 0,
      "outputs": []
    },
    {
      "cell_type": "markdown",
      "metadata": {
        "id": "MIQ6grhqEODZ",
        "colab_type": "text"
      },
      "source": [
        "## Custom data generator"
      ]
    },
    {
      "cell_type": "code",
      "metadata": {
        "id": "Qle3iOzZEVMm",
        "colab_type": "code",
        "colab": {}
      },
      "source": [
        "class My_Custom_Generator(keras.utils.Sequence):\n",
        "\n",
        "  \n",
        "\n",
        "  def __init__(self, image_filenames, labels, batch_size):\n",
        "    self.image_filenames = image_filenames\n",
        "\n",
        "    self.labels = labels\n",
        "\n",
        "    self.batch_size = batch_size\n",
        "\n",
        "    \n",
        "  def __len__(self) :\n",
        "\n",
        "    return (np.ceil(len(self.image_filenames) / float(\n",
        "        self.batch_size))).astype(np.int)\n",
        "\n",
        "  \n",
        "\n",
        "  def __getitem__(self, idx) :\n",
        "\n",
        "    batch_x = self.image_filenames[idx * self.batch_size : (\n",
        "        idx+1) * self.batch_size]\n",
        "    batch_y = self.labels[idx * self.batch_size : (idx+1) * self.batch_size]\n",
        "    \n",
        "    return np.array([\n",
        "            (imread(str(file_name))) for file_name in batch_x])/255.0, np.array(\n",
        "                batch_y)"
      ],
      "execution_count": 0,
      "outputs": []
    },
    {
      "cell_type": "code",
      "metadata": {
        "id": "0KIOPUvmEgtv",
        "colab_type": "code",
        "colab": {}
      },
      "source": [
        "# loading variables\n",
        "from keras.utils import to_categorical\n",
        "\n",
        "# loading variables\n",
        "X_train = np.load('X_train_filenames.npy')\n",
        "y_train = to_categorical(np.load('y_train.npy'))\n",
        "\n",
        "X_df = list(X_train)\n",
        "y_df = list(y_train)\n",
        "\n",
        "X_train_files = np.array(X_df[:44263])\n",
        "y_train_values = np.array(y_df[:44263])\n",
        "X_val_files = np.array(X_df[44263:])\n",
        "y_val_values = np.array(y_df[44263:])\n",
        "\n",
        "X_test_files = np.load('X_val_filenames.npy')\n",
        "y_test = to_categorical(np.load('y_val.npy'))\n",
        "name_classes = pd.read_csv('label_classes.csv')"
      ],
      "execution_count": 0,
      "outputs": []
    },
    {
      "cell_type": "code",
      "metadata": {
        "id": "Z22N_4bCEt30",
        "colab_type": "code",
        "colab": {}
      },
      "source": [
        "batch_size = 95\n",
        "\n",
        "my_training_batch_generator = My_Custom_Generator(\n",
        "    X_train_files, y_train_values, batch_size)\n",
        "my_validation_batch_generator = My_Custom_Generator(\n",
        "    X_val_files, y_val_values, batch_size)"
      ],
      "execution_count": 0,
      "outputs": []
    },
    {
      "cell_type": "code",
      "metadata": {
        "id": "Bw294SVdE2wt",
        "colab_type": "code",
        "colab": {}
      },
      "source": [
        ""
      ],
      "execution_count": 0,
      "outputs": []
    },
    {
      "cell_type": "code",
      "metadata": {
        "id": "zShEN7KmE28L",
        "colab_type": "code",
        "colab": {}
      },
      "source": [
        ""
      ],
      "execution_count": 0,
      "outputs": []
    },
    {
      "cell_type": "markdown",
      "metadata": {
        "id": "gKgQczovE3eh",
        "colab_type": "text"
      },
      "source": [
        "## Running model"
      ]
    },
    {
      "cell_type": "code",
      "metadata": {
        "id": "jVU_7W5mE6yg",
        "colab_type": "code",
        "colab": {}
      },
      "source": [
        "transfer_m.compile(loss='categorical_crossentropy',optimizer=\n",
        "                   'adam',metrics=['accuracy'])\n",
        "\n",
        "load_weights = False #load weights if not re-fitting\n",
        "if load_weights:\n",
        "    transfer_m.load_weights('../model/vgg_baseline.hdf5')"
      ],
      "execution_count": 0,
      "outputs": []
    },
    {
      "cell_type": "code",
      "metadata": {
        "id": "IBiYmL7fF_ob",
        "colab_type": "code",
        "outputId": "797751dd-60ba-4840-8591-e9e6d34805d2",
        "colab": {
          "base_uri": "https://localhost:8080/",
          "height": 235
        }
      },
      "source": [
        "#from tensorflow.python.keras.utils.data_utils import Sequence\n",
        "from keras.utils import Sequence\n",
        "from keras.callbacks import EarlyStopping\n",
        "early_stop_mon=EarlyStopping(patience=2)\n",
        "if load_weights!=True:\n",
        "  record = transfer_m.fit_generator(generator=my_training_batch_generator,\n",
        "                 steps_per_epoch = int(44263 // batch_size),\n",
        "                   epochs = 30,\n",
        "                   #verbose = 1,\n",
        "                   validation_data = my_validation_batch_generator,\n",
        "                   validation_steps = int(4917 // batch_size),\n",
        "                   callbacks=[early_stop_mon])"
      ],
      "execution_count": 24,
      "outputs": [
        {
          "output_type": "stream",
          "text": [
            "Epoch 1/30\n",
            "465/465 [==============================] - 270s 581ms/step - loss: 0.8833 - acc: 0.7333 - val_loss: 0.1626 - val_acc: 0.9612\n",
            "Epoch 2/30\n",
            "465/465 [==============================] - 272s 585ms/step - loss: 0.3282 - acc: 0.8801 - val_loss: 0.1063 - val_acc: 0.9686\n",
            "Epoch 3/30\n",
            "465/465 [==============================] - 274s 589ms/step - loss: 0.2423 - acc: 0.9080 - val_loss: 0.0696 - val_acc: 0.9827\n",
            "Epoch 4/30\n",
            "465/465 [==============================] - 275s 591ms/step - loss: 0.2094 - acc: 0.9181 - val_loss: 0.0634 - val_acc: 0.9813\n",
            "Epoch 5/30\n",
            "465/465 [==============================] - 274s 590ms/step - loss: 0.1974 - acc: 0.9239 - val_loss: 0.0678 - val_acc: 0.9803\n",
            "Epoch 6/30\n",
            "465/465 [==============================] - 270s 581ms/step - loss: 0.1846 - acc: 0.9273 - val_loss: 0.0798 - val_acc: 0.9773\n"
          ],
          "name": "stdout"
        }
      ]
    },
    {
      "cell_type": "code",
      "metadata": {
        "id": "FnwwCnY-F_81",
        "colab_type": "code",
        "colab": {}
      },
      "source": [
        "save_weights = True\n",
        "if save_weights:\n",
        "    transfer_m.save('../model/baseline_transfer.hdf5')\n",
        "    #save history too\n",
        "    hist_df=pd.DataFrame.from_dict(record.history)\n",
        "    hist_df.to_csv('../model/history_transfer.csv')"
      ],
      "execution_count": 0,
      "outputs": []
    },
    {
      "cell_type": "code",
      "metadata": {
        "id": "ggJOe84FIYWZ",
        "colab_type": "code",
        "colab": {}
      },
      "source": [
        "#transfer_m.load_weights('../model/baseline_transfer.hdf5')"
      ],
      "execution_count": 0,
      "outputs": []
    },
    {
      "cell_type": "code",
      "metadata": {
        "id": "c8rEBAlOLaSf",
        "colab_type": "code",
        "colab": {}
      },
      "source": [
        "#hist=pd.read_csv('../model/history_transfer.csv')"
      ],
      "execution_count": 0,
      "outputs": []
    },
    {
      "cell_type": "code",
      "metadata": {
        "id": "ORcLaeg1Lank",
        "colab_type": "code",
        "colab": {}
      },
      "source": [
        ""
      ],
      "execution_count": 0,
      "outputs": []
    },
    {
      "cell_type": "code",
      "metadata": {
        "id": "v9LiBMRALaxR",
        "colab_type": "code",
        "colab": {}
      },
      "source": [
        ""
      ],
      "execution_count": 0,
      "outputs": []
    },
    {
      "cell_type": "markdown",
      "metadata": {
        "id": "RHjEQ1XnGAqy",
        "colab_type": "text"
      },
      "source": [
        "## Evaluate model"
      ]
    },
    {
      "cell_type": "code",
      "metadata": {
        "id": "GPElaBJhGE4P",
        "colab_type": "code",
        "colab": {
          "base_uri": "https://localhost:8080/",
          "height": 370
        },
        "outputId": "288dbbdb-c11a-49b6-85da-e43ca08f081b"
      },
      "source": [
        "# Plot model fitting\n",
        "# adapted from Deep Learning With Python (Chollet)\n",
        "h = record.history\n",
        "epochs = range(len(h['acc']))\n",
        "fig,ax=plt.subplots(1,2,figsize=(13,5))\n",
        "ax[0].plot(epochs, h['acc'], 'r', label='Training')\n",
        "ax[0].plot(epochs, h['val_acc'], 'b', label='Validation')\n",
        "ax[0].set_title('Accuracy')\n",
        "ax[0].set_xlabel('Epochs')\n",
        "ax[0].legend()\n",
        "ax[1].plot(epochs, h['loss'], 'r', label='Training')\n",
        "ax[1].plot(epochs, h['val_loss'], 'b', label='Validation')\n",
        "ax[1].set_title('Loss')\n",
        "ax[1].set_xlabel('Epochs')\n",
        "ax[1].legend()\n",
        "plt.suptitle('Evaluation of Model Fit Over {} Epochs transfer learning 1'.format(len(h['acc'])));"
      ],
      "execution_count": 30,
      "outputs": [
        {
          "output_type": "display_data",
          "data": {
            "image/png": "[encoded data removed]",
            "text/plain": [
              "<Figure size 936x360 with 2 Axes>"
            ]
          },
          "metadata": {
            "tags": []
          }
        }
      ]
    }
  ]
}
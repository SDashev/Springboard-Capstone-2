{
  "nbformat": 4,
  "nbformat_minor": 0,
  "metadata": {
    "colab": {
      "name": "Capstone 2 ml model scratch.ipynb",
      "provenance": [],
      "machine_shape": "hm",
      "authorship_tag": "ABX9TyO7y6muUJk69ka9I9826t38",
      "include_colab_link": true
    },
    "kernelspec": {
      "name": "python3",
      "display_name": "Python 3"
    },
    "accelerator": "GPU"
  },
  "cells": [
    {
      "cell_type": "markdown",
      "metadata": {
        "id": "view-in-github",
        "colab_type": "text"
      },
      "source": [
        "<a href=\"https://colab.research.google.com/github/SDashev/Springboard-Capstone-2/blob/master/Capstone_2_ml_model_scratch.ipynb\" target=\"_parent\"><img src=\"https://colab.research.google.com/assets/colab-badge.svg\" alt=\"Open In Colab\"/></a>"
      ]
    },
    {
      "cell_type": "markdown",
      "metadata": {
        "id": "PxRex0BZqq0y",
        "colab_type": "text"
      },
      "source": [
        "## This notebook uses Google colab to run\n"
      ]
    },
    {
      "cell_type": "code",
      "metadata": {
        "id": "CEzGLH7Wqiu9",
        "colab_type": "code",
        "outputId": "f70fafa2-000f-4f12-8e6b-5eb22550cc5d",
        "colab": {
          "base_uri": "https://localhost:8080/",
          "height": 294
        }
      },
      "source": [
        "!pip install PyDrive"
      ],
      "execution_count": 0,
      "outputs": [
        {
          "output_type": "stream",
          "text": [
            "Requirement already satisfied: PyDrive in /usr/local/lib/python3.6/dist-packages (1.3.1)\n",
            "Requirement already satisfied: google-api-python-client>=1.2 in /usr/local/lib/python3.6/dist-packages (from PyDrive) (1.7.11)\n",
            "Requirement already satisfied: oauth2client>=4.0.0 in /usr/local/lib/python3.6/dist-packages (from PyDrive) (4.1.3)\n",
            "Requirement already satisfied: PyYAML>=3.0 in /usr/local/lib/python3.6/dist-packages (from PyDrive) (3.13)\n",
            "Requirement already satisfied: google-auth-httplib2>=0.0.3 in /usr/local/lib/python3.6/dist-packages (from google-api-python-client>=1.2->PyDrive) (0.0.3)\n",
            "Requirement already satisfied: six<2dev,>=1.6.1 in /usr/local/lib/python3.6/dist-packages (from google-api-python-client>=1.2->PyDrive) (1.12.0)\n",
            "Requirement already satisfied: uritemplate<4dev,>=3.0.0 in /usr/local/lib/python3.6/dist-packages (from google-api-python-client>=1.2->PyDrive) (3.0.1)\n",
            "Requirement already satisfied: httplib2<1dev,>=0.9.2 in /usr/local/lib/python3.6/dist-packages (from google-api-python-client>=1.2->PyDrive) (0.11.3)\n",
            "Requirement already satisfied: google-auth>=1.4.1 in /usr/local/lib/python3.6/dist-packages (from google-api-python-client>=1.2->PyDrive) (1.7.2)\n",
            "Requirement already satisfied: rsa>=3.1.4 in /usr/local/lib/python3.6/dist-packages (from oauth2client>=4.0.0->PyDrive) (4.0)\n",
            "Requirement already satisfied: pyasn1>=0.1.7 in /usr/local/lib/python3.6/dist-packages (from oauth2client>=4.0.0->PyDrive) (0.4.8)\n",
            "Requirement already satisfied: pyasn1-modules>=0.0.5 in /usr/local/lib/python3.6/dist-packages (from oauth2client>=4.0.0->PyDrive) (0.2.8)\n",
            "Requirement already satisfied: setuptools>=40.3.0 in /usr/local/lib/python3.6/dist-packages (from google-auth>=1.4.1->google-api-python-client>=1.2->PyDrive) (45.2.0)\n",
            "Requirement already satisfied: cachetools<3.2,>=2.0.0 in /usr/local/lib/python3.6/dist-packages (from google-auth>=1.4.1->google-api-python-client>=1.2->PyDrive) (3.1.1)\n"
          ],
          "name": "stdout"
        }
      ]
    },
    {
      "cell_type": "code",
      "metadata": {
        "id": "tWPGB6m_9KI4",
        "colab_type": "code",
        "outputId": "9ac34f9b-a4d3-4ab1-f752-9427081d080c",
        "colab": {
          "base_uri": "https://localhost:8080/",
          "height": 329
        }
      },
      "source": [
        "gpu_info = !nvidia-smi\n",
        "gpu_info = '\\n'.join(gpu_info)\n",
        "if gpu_info.find('failed') >= 0:\n",
        "  print('Select the Runtime → \"Change runtime type\" menu to enable a GPU accelerator, ')\n",
        "  print('and then re-execute this cell.')\n",
        "else:\n",
        "  print(gpu_info)"
      ],
      "execution_count": 0,
      "outputs": [
        {
          "output_type": "stream",
          "text": [
            "Thu Mar 19 16:18:40 2020       \n",
            "+-----------------------------------------------------------------------------+\n",
            "| NVIDIA-SMI 440.64.00    Driver Version: 418.67       CUDA Version: 10.1     |\n",
            "|-------------------------------+----------------------+----------------------+\n",
            "| GPU  Name        Persistence-M| Bus-Id        Disp.A | Volatile Uncorr. ECC |\n",
            "| Fan  Temp  Perf  Pwr:Usage/Cap|         Memory-Usage | GPU-Util  Compute M. |\n",
            "|===============================+======================+======================|\n",
            "|   0  Tesla P100-PCIE...  Off  | 00000000:00:04.0 Off |                    0 |\n",
            "| N/A   33C    P0    26W / 250W |      0MiB / 16280MiB |      0%      Default |\n",
            "+-------------------------------+----------------------+----------------------+\n",
            "                                                                               \n",
            "+-----------------------------------------------------------------------------+\n",
            "| Processes:                                                       GPU Memory |\n",
            "|  GPU       PID   Type   Process name                             Usage      |\n",
            "|=============================================================================|\n",
            "|  No running processes found                                                 |\n",
            "+-----------------------------------------------------------------------------+\n"
          ],
          "name": "stdout"
        }
      ]
    },
    {
      "cell_type": "code",
      "metadata": {
        "id": "eW1LGZVE7sT4",
        "colab_type": "code",
        "colab": {}
      },
      "source": [
        "import os\n",
        "from pydrive.auth import GoogleAuth\n",
        "from pydrive.drive import GoogleDrive\n",
        "from google.colab import auth\n",
        "from oauth2client.client import GoogleCredentials"
      ],
      "execution_count": 0,
      "outputs": []
    },
    {
      "cell_type": "code",
      "metadata": {
        "id": "HLC47s_s7yVM",
        "colab_type": "code",
        "colab": {}
      },
      "source": [
        "auth.authenticate_user()\n",
        "gauth = GoogleAuth()\n",
        "gauth.credentials = GoogleCredentials.get_application_default()\n",
        "drive = GoogleDrive(gauth)"
      ],
      "execution_count": 0,
      "outputs": []
    },
    {
      "cell_type": "code",
      "metadata": {
        "id": "XXHkYC919KMR",
        "colab_type": "code",
        "colab": {}
      },
      "source": [
        ""
      ],
      "execution_count": 0,
      "outputs": []
    },
    {
      "cell_type": "markdown",
      "metadata": {
        "id": "-c4LoBW-9MbS",
        "colab_type": "text"
      },
      "source": [
        ""
      ]
    },
    {
      "cell_type": "code",
      "metadata": {
        "id": "qB85qtb79KRm",
        "colab_type": "code",
        "colab": {}
      },
      "source": [
        "# in the colab files, I created work directory and moved the working directory there.\n",
        "os.chdir( 'work')"
      ],
      "execution_count": 0,
      "outputs": []
    },
    {
      "cell_type": "code",
      "metadata": {
        "id": "HADGG2qF9x2x",
        "colab_type": "code",
        "colab": {}
      },
      "source": [
        "download = drive.CreateFile({'id': '1-0DzB-dUXarKs6GtULkZceszlyx9BcfT'})\n",
        "download.GetContentFile('fruit-recognition.zip')\n",
        "#download = drive.CreateFile({'id': '1bE0dMhBKnbdA7fZCkE1CqUuL3cBVw-sL'})\n",
        "#download.GetContentFile('files_for_ml_cs2.zip')"
      ],
      "execution_count": 0,
      "outputs": []
    },
    {
      "cell_type": "code",
      "metadata": {
        "id": "rk-SiaOqZ8KR",
        "colab_type": "code",
        "colab": {}
      },
      "source": [
        "download = drive.CreateFile({'id': '1bE0dMhBKnbdA7fZCkE1CqUuL3cBVw-sL'})\n",
        "download.GetContentFile('files_for_ml_cs2.zip')"
      ],
      "execution_count": 0,
      "outputs": []
    },
    {
      "cell_type": "code",
      "metadata": {
        "id": "pRBwh-g6-Wrb",
        "colab_type": "code",
        "outputId": "3aa2a4bb-d665-4838-a727-b64910043b03",
        "colab": {
          "base_uri": "https://localhost:8080/",
          "height": 72
        }
      },
      "source": [
        "!unzip -q fruit-recognition.zip  \n",
        "!ls"
      ],
      "execution_count": 0,
      "outputs": [
        {
          "output_type": "stream",
          "text": [
            "Apple\t   files_for_ml_cs2.zip   Kiwi\t     Orange  Persimmon\tPomegranate\n",
            "Banana\t   fruit-recognition.zip  Mango      Peach   Pitaya\tTomatoes\n",
            "Carambola  Guava\t\t  muskmelon  Pear    Plum\n"
          ],
          "name": "stdout"
        }
      ]
    },
    {
      "cell_type": "code",
      "metadata": {
        "id": "dSA-7-KH-ZUt",
        "colab_type": "code",
        "outputId": "7660b471-c5f3-4135-b58b-49b95f4b3f6c",
        "colab": {
          "base_uri": "https://localhost:8080/",
          "height": 164
        }
      },
      "source": [
        "!unzip -q files_for_ml_cs2.zip  \n",
        "!ls"
      ],
      "execution_count": 0,
      "outputs": [
        {
          "output_type": "stream",
          "text": [
            "Apple\t\t\tlabel_classes.csv  Plum\n",
            "Banana\t\t\tMango\t\t   Pomegranate\n",
            "Carambola\t\tmuskmelon\t   Tomatoes\n",
            "filenames_shuffled.npy\tOrange\t\t   X_train_filenames.npy\n",
            "files_for_ml_cs2.zip\tPeach\t\t   X_val_filenames.npy\n",
            "fruit-recognition.zip\tPear\t\t   y_labels_one_hot_shuffled.npy\n",
            "Guava\t\t\tPersimmon\t   y_train.npy\n",
            "Kiwi\t\t\tPitaya\t\t   y_val.npy\n"
          ],
          "name": "stdout"
        }
      ]
    },
    {
      "cell_type": "code",
      "metadata": {
        "id": "XsA-i4Eg_cXN",
        "colab_type": "code",
        "outputId": "beb1d5e2-12ee-4c50-94d6-c47c9ac8ddbe",
        "colab": {
          "base_uri": "https://localhost:8080/",
          "height": 35
        }
      },
      "source": [
        "!rm fruit-recognition.zip\n",
        "!rm files_for_ml_cs2.zip\n",
        "%reset_selective download"
      ],
      "execution_count": 0,
      "outputs": [
        {
          "output_type": "stream",
          "text": [
            "Once deleted, variables cannot be recovered. Proceed (y/[n])?  y\n"
          ],
          "name": "stdout"
        }
      ]
    },
    {
      "cell_type": "code",
      "metadata": {
        "id": "9X0gEHnEUOlQ",
        "colab_type": "code",
        "colab": {}
      },
      "source": [
        ""
      ],
      "execution_count": 0,
      "outputs": []
    },
    {
      "cell_type": "code",
      "metadata": {
        "id": "ojzQfP9hGT8g",
        "colab_type": "code",
        "colab": {}
      },
      "source": [
        ""
      ],
      "execution_count": 0,
      "outputs": []
    },
    {
      "cell_type": "code",
      "metadata": {
        "id": "EnQ_1MnBEBnD",
        "colab_type": "code",
        "colab": {}
      },
      "source": [
        ""
      ],
      "execution_count": 0,
      "outputs": []
    },
    {
      "cell_type": "code",
      "metadata": {
        "id": "yy2XxoM4ELR2",
        "colab_type": "code",
        "colab": {}
      },
      "source": [
        "import numpy as np\n",
        "import pandas as pd\n",
        "\n",
        "from skimage.io import imread\n",
        "from skimage.transform import resize\n",
        "\n",
        "import keras\n",
        "\n",
        "from keras.models import Sequential, Model, load_model\n",
        "from keras.layers import Input, Conv1D, Conv2D, MaxPooling1D, MaxPooling2D, Dense, Dropout, Activation, Flatten\n",
        "from keras.layers.normalization import BatchNormalization\n",
        "from keras.utils import to_categorical\n",
        "\n",
        "import matplotlib.pyplot as plt\n"
      ],
      "execution_count": 0,
      "outputs": []
    },
    {
      "cell_type": "code",
      "metadata": {
        "id": "BZ7hzi9LWo10",
        "colab_type": "code",
        "colab": {}
      },
      "source": [
        ""
      ],
      "execution_count": 0,
      "outputs": []
    },
    {
      "cell_type": "code",
      "metadata": {
        "id": "D-XiW4S7WpHh",
        "colab_type": "code",
        "colab": {}
      },
      "source": [
        ""
      ],
      "execution_count": 0,
      "outputs": []
    },
    {
      "cell_type": "markdown",
      "metadata": {
        "id": "--zW8UkoWtmO",
        "colab_type": "text"
      },
      "source": [
        "## Build model"
      ]
    },
    {
      "cell_type": "code",
      "metadata": {
        "id": "UW-AGfsrWpUE",
        "colab_type": "code",
        "outputId": "1965ab41-a152-4e0f-af1a-e76e5e296767",
        "colab": {
          "base_uri": "https://localhost:8080/",
          "height": 458
        }
      },
      "source": [
        "model = Sequential()\n",
        "\n",
        "model.add(Conv2D(32, (3, 3), activation='relu', input_shape=(258, 320, 3)))\n",
        "model.add(MaxPooling2D(pool_size=(2, 2)))\n",
        "#model.add(Dropout(0.25))\n",
        "\n",
        "model.add(Conv2D(64, (3, 3), activation='relu'))\n",
        "model.add(MaxPooling2D(pool_size=(3, 3)))\n",
        "#model.add(Dropout(0.25))\n",
        "\n",
        "#model.add(Conv2D(64, (3, 3), activation='relu'))\n",
        "#model.add(MaxPooling2D(pool_size=(3, 3)))\n",
        "#model.add(Dropout(0.25))\n",
        "\n",
        "model.add(Flatten())\n",
        "\n",
        "model.add(Dense(48, activation='relu', use_bias=True, bias_initializer='zeros' ))\n",
        "model.add(Dropout(0.5))\n",
        "model.add(Dense(15, activation='softmax'))\n",
        "\n",
        "\n",
        "model.summary()"
      ],
      "execution_count": 0,
      "outputs": [
        {
          "output_type": "stream",
          "text": [
            "Model: \"sequential_11\"\n",
            "_________________________________________________________________\n",
            "Layer (type)                 Output Shape              Param #   \n",
            "=================================================================\n",
            "conv2d_30 (Conv2D)           (None, 256, 318, 32)      896       \n",
            "_________________________________________________________________\n",
            "max_pooling2d_30 (MaxPooling (None, 128, 159, 32)      0         \n",
            "_________________________________________________________________\n",
            "conv2d_31 (Conv2D)           (None, 126, 157, 64)      18496     \n",
            "_________________________________________________________________\n",
            "max_pooling2d_31 (MaxPooling (None, 42, 52, 64)        0         \n",
            "_________________________________________________________________\n",
            "flatten_11 (Flatten)         (None, 139776)            0         \n",
            "_________________________________________________________________\n",
            "dense_21 (Dense)             (None, 48)                6709296   \n",
            "_________________________________________________________________\n",
            "dropout_25 (Dropout)         (None, 48)                0         \n",
            "_________________________________________________________________\n",
            "dense_22 (Dense)             (None, 15)                735       \n",
            "=================================================================\n",
            "Total params: 6,729,423\n",
            "Trainable params: 6,729,423\n",
            "Non-trainable params: 0\n",
            "_________________________________________________________________\n"
          ],
          "name": "stdout"
        }
      ]
    },
    {
      "cell_type": "code",
      "metadata": {
        "id": "WdW4If5VcLQc",
        "colab_type": "code",
        "colab": {}
      },
      "source": [
        ""
      ],
      "execution_count": 0,
      "outputs": []
    },
    {
      "cell_type": "code",
      "metadata": {
        "id": "0oB76cMZcLY3",
        "colab_type": "code",
        "colab": {}
      },
      "source": [
        ""
      ],
      "execution_count": 0,
      "outputs": []
    },
    {
      "cell_type": "code",
      "metadata": {
        "id": "VHI4Z7CtcLhA",
        "colab_type": "code",
        "colab": {}
      },
      "source": [
        ""
      ],
      "execution_count": 0,
      "outputs": []
    },
    {
      "cell_type": "markdown",
      "metadata": {
        "id": "GEFbxfDt_eCw",
        "colab_type": "text"
      },
      "source": [
        "### Custom image data generator\n",
        "\n",
        "Code adapted from medium.com for large data sets that do not fit in memory."
      ]
    },
    {
      "cell_type": "code",
      "metadata": {
        "id": "4M8l3VQG_dMR",
        "colab_type": "code",
        "colab": {}
      },
      "source": [
        "class My_Custom_Generator(keras.utils.Sequence):\n",
        "\n",
        "  \n",
        "\n",
        "  def __init__(self, image_filenames, labels, batch_size):\n",
        "    self.image_filenames = image_filenames\n",
        "\n",
        "    self.labels = labels\n",
        "\n",
        "    self.batch_size = batch_size\n",
        "\n",
        "    \n",
        "  def __len__(self) :\n",
        "\n",
        "    return (np.ceil(len(self.image_filenames) / float(\n",
        "        self.batch_size))).astype(np.int)\n",
        "\n",
        "  \n",
        "\n",
        "  def __getitem__(self, idx) :\n",
        "\n",
        "    batch_x = self.image_filenames[idx * self.batch_size : (\n",
        "        idx+1) * self.batch_size]\n",
        "    batch_y = self.labels[idx * self.batch_size : (idx+1) * self.batch_size]\n",
        "    \n",
        "    return np.array([\n",
        "            (imread(str(file_name))) for file_name in batch_x])/255.0, np.array(\n",
        "                batch_y)"
      ],
      "execution_count": 0,
      "outputs": []
    },
    {
      "cell_type": "code",
      "metadata": {
        "id": "IvtakPv5_ch8",
        "colab_type": "code",
        "colab": {}
      },
      "source": [
        "from keras.utils import to_categorical\n",
        "\n",
        "# loading variables\n",
        "X_train = np.load('X_train_filenames.npy')\n",
        "y_train = to_categorical(np.load('y_train.npy'))\n",
        "\n",
        "X_df = list(X_train)\n",
        "y_df = list(y_train)\n",
        "\n",
        "X_train_files = np.array(X_df[:44263])\n",
        "y_train_values = np.array(y_df[:44263])\n",
        "X_val_files = np.array(X_df[44263:])\n",
        "y_val_values = np.array(y_df[44263:])\n",
        "\n",
        "X_test_files = np.load('X_val_filenames.npy')\n",
        "y_test = to_categorical(np.load('y_val.npy'))\n",
        "name_classes = pd.read_csv('label_classes.csv')"
      ],
      "execution_count": 0,
      "outputs": []
    },
    {
      "cell_type": "code",
      "metadata": {
        "id": "-m9WIm35ZDhq",
        "colab_type": "code",
        "outputId": "a9eacb81-72a4-472d-85f2-3dd74c9bb5f0",
        "colab": {
          "base_uri": "https://localhost:8080/",
          "height": 90
        }
      },
      "source": [
        "X_train"
      ],
      "execution_count": 0,
      "outputs": [
        {
          "output_type": "execute_result",
          "data": {
            "text/plain": [
              "array(['muskmelon/Muskmelon 001953.png', 'Orange/Orange0056.png',\n",
              "       'Guava/Guava total/1GuavaуАВ3064.png', ...,\n",
              "       'Apple/Apple D/scene01601.png', 'Carambola/Carambola 001600.png',\n",
              "       'Mango/Mango0069.png'], dtype='<U46')"
            ]
          },
          "metadata": {
            "tags": []
          },
          "execution_count": 51
        }
      ]
    },
    {
      "cell_type": "code",
      "metadata": {
        "id": "X5F9I3w8d-We",
        "colab_type": "code",
        "outputId": "1b05f1d3-8cd1-46cd-a551-4e1daefe5234",
        "colab": {
          "base_uri": "https://localhost:8080/",
          "height": 109
        }
      },
      "source": [
        "X_train_files"
      ],
      "execution_count": 0,
      "outputs": [
        {
          "output_type": "execute_result",
          "data": {
            "text/plain": [
              "array(['muskmelon/Muskmelon 001953.png', 'Orange/Orange0056.png',\n",
              "       'Guava/Guava total/1GuavaуАВ3064.png', ...,\n",
              "       'Guava/Guava total/GuavaуАВ1327.png',\n",
              "       'Kiwi/Total Number of Kiwi fruit/Kiwi00789.png',\n",
              "       'Apple/Apple F/Apple F _0_3580.png'], dtype='<U46')"
            ]
          },
          "metadata": {
            "tags": []
          },
          "execution_count": 54
        }
      ]
    },
    {
      "cell_type": "code",
      "metadata": {
        "id": "YYJFw_-acSGd",
        "colab_type": "code",
        "colab": {}
      },
      "source": [
        "batch_size = 95\n",
        "\n",
        "my_training_batch_generator = My_Custom_Generator(\n",
        "    X_train_files, y_train_values, batch_size)\n",
        "my_validation_batch_generator = My_Custom_Generator(\n",
        "    X_val_files, y_val_values, batch_size)"
      ],
      "execution_count": 0,
      "outputs": []
    },
    {
      "cell_type": "code",
      "metadata": {
        "id": "hXuWxjh0dJui",
        "colab_type": "code",
        "colab": {}
      },
      "source": [
        ""
      ],
      "execution_count": 0,
      "outputs": []
    },
    {
      "cell_type": "code",
      "metadata": {
        "id": "VCkRCtT1dJ40",
        "colab_type": "code",
        "colab": {}
      },
      "source": [
        ""
      ],
      "execution_count": 0,
      "outputs": []
    },
    {
      "cell_type": "code",
      "metadata": {
        "id": "_Th5NkCgdKCc",
        "colab_type": "code",
        "colab": {}
      },
      "source": [
        ""
      ],
      "execution_count": 0,
      "outputs": []
    },
    {
      "cell_type": "markdown",
      "metadata": {
        "id": "c8O1Y6FzdK5A",
        "colab_type": "text"
      },
      "source": [
        ""
      ]
    },
    {
      "cell_type": "code",
      "metadata": {
        "id": "12kIsSsZe4Uk",
        "colab_type": "code",
        "colab": {}
      },
      "source": [
        "# load model\n",
        "load_weiths = False\n",
        "if load_weiths:\n",
        "  model.load_weights('/content/baseline.hdf5')\n",
        "model.compile(optimizer='adam', loss='categorical_crossentropy', metrics=[\n",
        "                                                              'accuracy'])"
      ],
      "execution_count": 0,
      "outputs": []
    },
    {
      "cell_type": "code",
      "metadata": {
        "id": "K-POMRFDGBEF",
        "colab_type": "code",
        "outputId": "928adc25-991c-412a-c0f5-cfa8ad033ad3",
        "colab": {
          "base_uri": "https://localhost:8080/",
          "height": 237
        }
      },
      "source": [
        "# Fit the model\n",
        "from keras.callbacks import EarlyStopping\n",
        "early_stop_mon=EarlyStopping(patience=2)\n",
        "if load_weiths!=True:\n",
        "    record = model.fit_generator(generator=my_training_batch_generator,\n",
        "                 steps_per_epoch = int(44263 // batch_size),\n",
        "                   epochs = 6,\n",
        "                   #verbose = 1,\n",
        "                   validation_data = my_validation_batch_generator,\n",
        "                   validation_steps = int(4917 // batch_size),\n",
        "                   callbacks=[early_stop_mon])"
      ],
      "execution_count": 0,
      "outputs": [
        {
          "output_type": "stream",
          "text": [
            "Epoch 1/6\n",
            "465/465 [==============================] - 240s 516ms/step - loss: 1.3719 - acc: 0.5433 - val_loss: 0.4103 - val_acc: 0.8797\n",
            "Epoch 2/6\n",
            "465/465 [==============================] - 236s 508ms/step - loss: 0.7795 - acc: 0.7075 - val_loss: 0.2981 - val_acc: 0.9096\n",
            "Epoch 3/6\n",
            "465/465 [==============================] - 243s 522ms/step - loss: 0.5735 - acc: 0.7811 - val_loss: 0.2315 - val_acc: 0.9254\n",
            "Epoch 4/6\n",
            "465/465 [==============================] - 241s 518ms/step - loss: 0.4703 - acc: 0.8168 - val_loss: 0.1886 - val_acc: 0.9343\n",
            "Epoch 5/6\n",
            "465/465 [==============================] - 236s 508ms/step - loss: 0.4034 - acc: 0.8425 - val_loss: 0.1770 - val_acc: 0.9379\n",
            "Epoch 6/6\n",
            "465/465 [==============================] - 228s 490ms/step - loss: 0.3418 - acc: 0.8655 - val_loss: 0.1575 - val_acc: 0.9443\n"
          ],
          "name": "stdout"
        }
      ]
    },
    {
      "cell_type": "code",
      "metadata": {
        "id": "54ixem9fYdH0",
        "colab_type": "code",
        "colab": {}
      },
      "source": [
        ""
      ],
      "execution_count": 0,
      "outputs": []
    },
    {
      "cell_type": "code",
      "metadata": {
        "id": "mGwev0lTgeFG",
        "colab_type": "code",
        "colab": {}
      },
      "source": [
        "save_weights = True\n",
        "if save_weights:\n",
        "    model.save_weights('../model/baseline.hdf5')\n",
        "    #save history too\n",
        "    hist_df=pd.DataFrame.from_dict(record.history)\n",
        "    hist_df.to_csv('../model/history.csv')"
      ],
      "execution_count": 0,
      "outputs": []
    },
    {
      "cell_type": "code",
      "metadata": {
        "id": "HfviCEwPE_6X",
        "colab_type": "code",
        "colab": {}
      },
      "source": [
        "model.load_weights('../model/baseline.hdf5')"
      ],
      "execution_count": 0,
      "outputs": []
    },
    {
      "cell_type": "code",
      "metadata": {
        "id": "d4goXBCaFDEP",
        "colab_type": "code",
        "colab": {}
      },
      "source": [
        "hist=pd.read_csv('../model/history.csv')"
      ],
      "execution_count": 0,
      "outputs": []
    },
    {
      "cell_type": "code",
      "metadata": {
        "id": "dsHh4nYVgeUZ",
        "colab_type": "code",
        "colab": {}
      },
      "source": [
        ""
      ],
      "execution_count": 0,
      "outputs": []
    },
    {
      "cell_type": "code",
      "metadata": {
        "id": "7Ndzw_MFgegE",
        "colab_type": "code",
        "colab": {}
      },
      "source": [
        ""
      ],
      "execution_count": 0,
      "outputs": []
    },
    {
      "cell_type": "markdown",
      "metadata": {
        "id": "sduTGs2PnblN",
        "colab_type": "text"
      },
      "source": [
        ""
      ]
    },
    {
      "cell_type": "code",
      "metadata": {
        "id": "W6I-ZFHCnb--",
        "colab_type": "code",
        "outputId": "14cee97d-5267-45a5-e312-7e4a5e520c7c",
        "colab": {
          "base_uri": "https://localhost:8080/",
          "height": 370
        }
      },
      "source": [
        "# Plot model fitting\n",
        "# adapted from Deep Learning With Python (Chollet)\n",
        "h = record.history\n",
        "epochs = range(len(h['acc']))\n",
        "fig,ax=plt.subplots(1,2,figsize=(13,5))\n",
        "ax[0].plot(epochs, h['acc'], 'r', label='Training')\n",
        "ax[0].plot(epochs, h['val_acc'], 'b', label='Validation')\n",
        "ax[0].set_title('Accuracy')\n",
        "ax[0].set_xlabel('Epochs')\n",
        "ax[0].legend()\n",
        "ax[1].plot(epochs, h['loss'], 'r', label='Training')\n",
        "ax[1].plot(epochs, h['val_loss'], 'b', label='Validation')\n",
        "ax[1].set_title('Loss')\n",
        "ax[1].set_xlabel('Epochs')\n",
        "ax[1].legend()\n",
        "plt.suptitle('Evaluation of Model Fit Over {} Epochs'.format(len(h['acc'])));"
      ],
      "execution_count": 0,
      "outputs": [
        {
          "output_type": "display_data",
          "data": {
            "image/png": "[encoded data removed]",
            "text/plain": [
              "<Figure size 936x360 with 2 Axes>"
            ]
          },
          "metadata": {
            "tags": []
          }
        }
      ]
    }
  ]
}